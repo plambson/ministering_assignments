{
 "cells": [
  {
   "cell_type": "code",
   "execution_count": null,
   "id": "a59e1a52",
   "metadata": {},
   "outputs": [],
   "source": [
    "import os\n",
    "import re\n",
    "files =  os.listdir()\n",
    "pdf_file = next(x for x in files if x[-3:] =='pdf')"
   ]
  },
  {
   "cell_type": "code",
   "execution_count": null,
   "id": "f33a0f2f",
   "metadata": {},
   "outputs": [],
   "source": [
    "import pdfplumber\n",
    "\n",
    "with pdfplumber.open(pdf_file) as pdf:\n",
    "    first_page = pdf.pages[0]\n",
    "    print(first_page.chars[0])"
   ]
  },
  {
   "cell_type": "code",
   "execution_count": null,
   "id": "e893c5c3",
   "metadata": {},
   "outputs": [],
   "source": [
    "households = []\n",
    "texts_flattened = []\n",
    "household_id = 0\n",
    "for page_i, page in enumerate(pdf.pages):\n",
    "    page_households = []\n",
    "    household = []\n",
    "    page_cont=True\n",
    "    for i, word in enumerate(page.extract_words()):\n",
    "        if word['x0']==31.75336715694298:\n",
    "            page_households.append(household)\n",
    "            household=[]\n",
    "            word['type']='last_name'\n",
    "            household.append(word)\n",
    "        elif not word['text']=='©' and page_cont == True:\n",
    "            household.append(word)\n",
    "        else:\n",
    "            page_cont = False\n",
    "            pass\n",
    "    page_households.append(household)\n",
    "\n",
    "    del page_households[0]\n",
    "    \n",
    "    for i, household in enumerate(page_households):\n",
    "        for ii, text in enumerate(household):\n",
    "            page_households[i][ii]['id']= f'{page_i}-{i}'\n",
    "            page_households[i][ii]['page_id']=page_i\n",
    "            page_households[i][ii]['household_id']=household_id\n",
    "            household[ii]['localx0']=text['x0']-household[0]['x0']\n",
    "            household[ii]['localx1']=text['x1']-household[0]['x1']\n",
    "            household[ii]['localtop']=text['top']-household[0]['top']\n",
    "            household[ii]['localbottom']=text['bottom']-household[0]['bottom']\n",
    "            char=list(filter(lambda char: char['x0'] == text['x0'] and char['top']==text['top'], page.chars))[0]\n",
    "            household[ii]['fontname']=char['fontname']\n",
    "            household[ii]['size']=char['size']\n",
    "            texts_flattened.append(household[ii])\n",
    "        household_id+=1\n",
    "    households.extend(page_households)"
   ]
  },
  {
   "cell_type": "code",
   "execution_count": null,
   "id": "6ed4a9d6",
   "metadata": {},
   "outputs": [],
   "source": [
    "class household:\n",
    "    def __init__(self,items_list):\n",
    "        self.items_list = items_list\n",
    "        self.name_list=[]\n",
    "        self.address_list=[]\n",
    "        self.feature_loop()\n",
    "        self.find_lat_lon()\n",
    "        self.split_address()\n",
    "\n",
    "    def within_address_box(self, text_dict):\n",
    "        localx0 = 185.66274539392109,\n",
    "        localtop = -1.6303696435678603,\n",
    "        localx1 = 250,\n",
    "        localbottom = 32.10517445703567\n",
    "        if text_dict['localx0']>= 185.66274539392109 \\\n",
    "            and text_dict['localtop'] >=-1.6304\\\n",
    "            and text_dict['localx1']<=250\\\n",
    "            and text_dict['localbottom'] <= 32.10517445703567:\n",
    "            self.address_list.append(text_dict['text'])\n",
    "            return True\n",
    "        else:\n",
    "            return False\n",
    "    \n",
    "    def within_name_box(self, text_dict):\n",
    "        localx0 = 185.66274539392109,\n",
    "        localtop = -1.6303696435678603,\n",
    "        localx1 = 250,\n",
    "        localbottom = 32.10517445703567\n",
    "        if text_dict['localx0']>= 0 \\\n",
    "            and text_dict['localtop'] >=0\\\n",
    "            and text_dict['localx1']<=180\\\n",
    "            and text_dict['localbottom'] <= 0:\n",
    "            self.name_list.append(text_dict['text'])\n",
    "            return True\n",
    "        else:\n",
    "            return False\n",
    "    \n",
    "    def feature_loop(self):\n",
    "        for item in self.items_list:\n",
    "            self.within_address_box(item)\n",
    "            self.within_name_box(item)\n",
    "        self.address =' '.join(self.address_list)\n",
    "        self.name =' '.join(self.name_list)\n",
    "    \n",
    "    def find_lat_lon(self):\n",
    "        self.lat_pattern = '[0-9]{2}[.][0-9]{1,6}'\n",
    "        self.lon_pattern = '[-][0-9][0-9][.][0-9]{1,6}'\n",
    "        self.lat = re.findall(self.lat_pattern,self.address)\n",
    "        self.lon = re.findall(self.lon_pattern,self.address)\n",
    "        if self.lat:\n",
    "            self.lat = float(self.lat[0])\n",
    "        else:\n",
    "            self.lat = None\n",
    "        if self.lon:\n",
    "            self.lon = float(self.lon[0])\n",
    "        else:\n",
    "            self.lon=None\n",
    "            \n",
    "    def split_address(self):\n",
    "        self.lat_pattern = '[0-9]{2}[.][0-9]{1,6}'\n",
    "        self.address = re.split(self.lat_pattern,self.address)[0]\n",
    "    \n",
    "    def dump(self):\n",
    "        self.out = {\n",
    "            'name':self.name,\n",
    "            'address':self.address,\n",
    "            'lat':self.lat,\n",
    "            'lon':self.lon\n",
    "        }\n",
    "        return self.out"
   ]
  },
  {
   "cell_type": "code",
   "execution_count": null,
   "id": "a9f43d23",
   "metadata": {},
   "outputs": [],
   "source": [
    "out = []\n",
    "for hh in households:\n",
    "    house=household(hh)\n",
    "    out.append(house.dump())"
   ]
  },
  {
   "cell_type": "code",
   "execution_count": null,
   "id": "89c8298d",
   "metadata": {},
   "outputs": [],
   "source": [
    "import pandas as pd\n",
    "df = pd.DataFrame(out)\n",
    "df['cagegory']=0"
   ]
  },
  {
   "cell_type": "code",
   "execution_count": null,
   "id": "b309c916",
   "metadata": {},
   "outputs": [],
   "source": [
    "df.to_csv('needs_categorization.csv',index=False)\n",
    "df.to_clipboard(index=False)"
   ]
  },
  {
   "cell_type": "code",
   "execution_count": null,
   "id": "4e94c57f",
   "metadata": {},
   "outputs": [],
   "source": [
    "df = pd.read_csv('with_categorization.csv',usecols=['name', 'address', 'lat', 'lon', 'category'])"
   ]
  },
  {
   "cell_type": "code",
   "execution_count": null,
   "id": "b94918a0",
   "metadata": {},
   "outputs": [],
   "source": [
    "df_input=pd.read_clipboard()"
   ]
  },
  {
   "cell_type": "code",
   "execution_count": null,
   "id": "9c28083c",
   "metadata": {},
   "outputs": [],
   "source": [
    "df_input"
   ]
  },
  {
   "cell_type": "code",
   "execution_count": null,
   "id": "c55187e1",
   "metadata": {},
   "outputs": [],
   "source": [
    "def make_assignements(df_param, included_categories): \n",
    "    df_=df_param.copy()\n",
    "    X=df_[(df_['lat']>0) & (df_['category'].isin(included_categories))][['lat','lon']].values\n",
    "    mapper=df_[(df_['lat']>0) & (df_['category'].isin(included_categories))][['lat','lon']].index\n",
    "    print(len(X))\n",
    "    from sklearn.cluster import KMeans\n",
    "    import numpy as np\n",
    "\n",
    "    kmeans = KMeans(n_clusters=13, random_state=0).fit(X)\n",
    "    kmeans.labels_\n",
    "\n",
    "    Y =kmeans.cluster_centers_\n",
    "    \n",
    "    from h3 import point_dist\n",
    "    distances = []\n",
    "    for y in Y:\n",
    "        out=[]\n",
    "        for x in X:\n",
    "            out.append(point_dist((y),(x),unit='km'))\n",
    "        out = pd.Series(out,mapper)\n",
    "        distances.append(out)\n",
    "        \n",
    "    out = []\n",
    "    out_pairs=[]\n",
    "    while len(distances[-1])>0:\n",
    "        first=[]\n",
    "        for i,district in enumerate(distances):\n",
    "            if not district.empty:\n",
    "                current_min = district.idxmin()\n",
    "                first.append(current_min)\n",
    "                df_.loc[current_min,'district']=i\n",
    "                for ii, value in enumerate(distances):\n",
    "                    distances[ii].drop(current_min,inplace=True)\n",
    "            else:\n",
    "                pass\n",
    "        #print(first)\n",
    "        out.append(first)\n",
    "    assignments = pd.DataFrame(out)\n",
    "    \n",
    "    return df_, assignments"
   ]
  },
  {
   "cell_type": "code",
   "execution_count": null,
   "id": "695dfbc9",
   "metadata": {},
   "outputs": [],
   "source": [
    "primary_df, primary_assignments = make_assignements(df_input,[1])\n",
    "primary_df.to_clipboard(index=False)\n"
   ]
  },
  {
   "cell_type": "code",
   "execution_count": null,
   "id": "561e0fdd",
   "metadata": {},
   "outputs": [],
   "source": [
    "prim_sec_df, prim_sec_assignments= make_assignements(df_input,[1,2])\n",
    "prim_sec_df.to_clipboard(index=False)"
   ]
  },
  {
   "cell_type": "code",
   "execution_count": null,
   "id": "c228dab3",
   "metadata": {},
   "outputs": [],
   "source": [
    "df.to_clipboard(index=False)"
   ]
  },
  {
   "cell_type": "code",
   "execution_count": null,
   "id": "0bfd19e3",
   "metadata": {},
   "outputs": [],
   "source": [
    "included_categories = [1,2]\n",
    "X=df[(df['lat']>0) & (df['category'].isin(included_categories))][['lat','lon']].values\n",
    "mapper=df[(df['lat']>0) & (df['category'].isin(included_categories))][['lat','lon']].index\n",
    "print(len(X))\n",
    "from sklearn.cluster import KMeans\n",
    "import numpy as np\n",
    "\n",
    "kmeans = KMeans(n_clusters=13, random_state=0).fit(X)\n",
    "kmeans.labels_\n",
    "\n",
    "Y =kmeans.cluster_centers_\n",
    "\n",
    "from h3 import point_dist\n",
    "distances = []\n",
    "for y in Y:\n",
    "    out=[]\n",
    "    for x in X:\n",
    "        out.append(point_dist((y),(x),unit='km'))\n",
    "    out = pd.Series(out,mapper)\n",
    "    distances.append(out)\n",
    "\n",
    "out = []\n",
    "out_pairs=[]\n",
    "while len(distances[-1])>0:\n",
    "    first=[]\n",
    "    for i,district in enumerate(distances):\n",
    "        if not district.empty:\n",
    "            current_min = district.idxmin()\n",
    "            first.append(current_min)\n",
    "            df.loc[current_min,'district']=i\n",
    "            for ii, value in enumerate(distances):\n",
    "                distances[ii].drop(current_min,inplace=True)\n",
    "        else:\n",
    "            pass\n",
    "    #print(first)\n",
    "    out.append(first)\n",
    "assignments = pd.DataFrame(out)"
   ]
  },
  {
   "cell_type": "code",
   "execution_count": null,
   "id": "d5fa00b5",
   "metadata": {},
   "outputs": [],
   "source": []
  }
 ],
 "metadata": {
  "kernelspec": {
   "display_name": "Python 3 (ipykernel)",
   "language": "python",
   "name": "python3"
  },
  "language_info": {
   "codemirror_mode": {
    "name": "ipython",
    "version": 3
   },
   "file_extension": ".py",
   "mimetype": "text/x-python",
   "name": "python",
   "nbconvert_exporter": "python",
   "pygments_lexer": "ipython3",
   "version": "3.9.12"
  }
 },
 "nbformat": 4,
 "nbformat_minor": 5
}
